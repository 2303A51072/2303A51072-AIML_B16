{
  "nbformat": 4,
  "nbformat_minor": 0,
  "metadata": {
    "colab": {
      "provenance": [],
      "authorship_tag": "ABX9TyPnLkYwtu/y50BJW5GsvnVx",
      "include_colab_link": true
    },
    "kernelspec": {
      "name": "python3",
      "display_name": "Python 3"
    },
    "language_info": {
      "name": "python"
    }
  },
  "cells": [
    {
      "cell_type": "markdown",
      "metadata": {
        "id": "view-in-github",
        "colab_type": "text"
      },
      "source": [
        "<a href=\"https://colab.research.google.com/github/2303A51072/AIML-2025_B16/blob/main/2303A51072_27_B16.ipynb\" target=\"_parent\"><img src=\"https://colab.research.google.com/assets/colab-badge.svg\" alt=\"Open In Colab\"/></a>"
      ]
    },
    {
      "cell_type": "code",
      "source": [
        "import pandas as pd\n",
        "import numpy as np\n",
        "from sklearn.cluster import KMeans\n",
        "from sklearn.preprocessing import StandardScaler\n",
        "from sklearn.tree import DecisionTreeClassifier\n",
        "from sklearn.model_selection import train_test_split\n",
        "from sklearn.metrics import classification_report, silhouette_score\n",
        "\n",
        "# Load dataset correctly\n",
        "file_path = \"/content/AirQualityUCI.xlsx\"\n",
        "data = pd.read_excel(file_path, decimal=\",\", engine='openpyxl')  # Use openpyxl for .xlsx files\n",
        "\n",
        "# Data cleaning\n",
        "data = data.rename(columns=lambda x: x.strip())  # Remove spaces from column names\n",
        "if 'Unnamed: 15' in data.columns and 'Unnamed: 16' in data.columns:\n",
        "    data = data.drop([\"Unnamed: 15\", \"Unnamed: 16\"], axis=1)  # Drop unnecessary columns if they exist\n",
        "\n",
        "# Ensure 'Date' and 'Time' are strings before concatenating\n",
        "data['Datetime'] = pd.to_datetime(data['Date'].astype(str) + ' ' + data['Time'].astype(str), errors='coerce')\n",
        "data = data.drop(columns=['Date', 'Time'])  # Drop redundant columns\n",
        "data = data.dropna()  # Remove rows with missing values\n",
        "\n",
        "# 1. Identify the top 5 reasons for air quality issues\n",
        "correlations = data.corr()['CO(GT)'].abs().sort_values(ascending=False).iloc[1:6]\n",
        "top_reasons = correlations.index.tolist()\n",
        "print(\"Top 5 reasons for air quality issues:\", top_reasons)\n",
        "\n",
        "# 2. Identify the day of the week with most air quality issues\n",
        "data['DayOfWeek'] = data['Datetime'].dt.day_name()\n",
        "most_issues_day = data.groupby('DayOfWeek')['CO(GT)'].mean().idxmax()\n",
        "print(\"Day with most air quality issues:\", most_issues_day)\n",
        "\n",
        "# 3. Find the max and min air quality levels\n",
        "max_air_quality = data['CO(GT)'].max()\n",
        "min_air_quality = data['CO(GT)'].min()\n",
        "print(f\"Max air quality: {max_air_quality}, Min air quality: {min_air_quality}\")\n",
        "\n",
        "# 4. Identify the highest and lowest temperatures of air quality\n",
        "highest_temp = data.loc[data['T'].idxmax()]\n",
        "lowest_temp = data.loc[data['T'].idxmin()]\n",
        "print(\"Highest temperature for air quality:\")\n",
        "print(highest_temp)\n",
        "print(\"\\nLowest temperature for air quality:\")\n",
        "print(lowest_temp)\n",
        "\n",
        "# 5. Apply Classification or Clustering Model\n",
        "# Feature Selection\n",
        "features = data[['CO(GT)', 'T', 'RH', 'AH']]\n",
        "labels = np.where(data['CO(GT)'] > 5, 1, 0)  # Binary classification (High pollution > 5)\n",
        "\n",
        "# Preprocessing\n",
        "scaler = StandardScaler()\n",
        "features_scaled = scaler.fit_transform(features)\n",
        "\n",
        "# Classification Model\n",
        "X_train, X_test, y_train, y_test = train_test_split(features_scaled, labels, test_size=0.3, random_state=42)\n",
        "clf = DecisionTreeClassifier(random_state=42)\n",
        "clf.fit(X_train, y_train)\n",
        "y_pred = clf.predict(X_test)\n",
        "print(\"\\nClassification Report:\")\n",
        "print(classification_report(y_test, y_pred))\n",
        "\n",
        "# Clustering Model\n",
        "kmeans = KMeans(n_clusters=3, random_state=42)\n",
        "clusters = kmeans.fit_predict(features_scaled)\n",
        "data['Cluster'] = clusters\n",
        "print(\"\\nClustering Silhouette Score:\", silhouette_score(features_scaled, clusters))\n"
      ],
      "metadata": {
        "colab": {
          "base_uri": "https://localhost:8080/"
        },
        "id": "CdpINBk8JUjd",
        "outputId": "ad5d304e-fbd8-4184-9c44-5b4526545350"
      },
      "execution_count": 12,
      "outputs": [
        {
          "output_type": "stream",
          "name": "stdout",
          "text": [
            "Top 5 reasons for air quality issues: ['NO2(GT)', 'NOx(GT)', 'Datetime', 'NMHC(GT)', 'PT08.S3(NOx)']\n",
            "Day with most air quality issues: Friday\n",
            "Max air quality: 11.9, Min air quality: -200.0\n",
            "Highest temperature for air quality:\n",
            "CO(GT)                           2.3\n",
            "PT08.S1(CO)                   1186.0\n",
            "NMHC(GT)                        -200\n",
            "C6H6(GT)                   15.068536\n",
            "PT08.S2(NMHC)                1150.75\n",
            "NOx(GT)                        166.0\n",
            "PT08.S3(NOx)                   680.0\n",
            "NO2(GT)                        157.0\n",
            "PT08.S4(NO2)                  1686.0\n",
            "PT08.S5(O3)                  1234.75\n",
            "T                               44.6\n",
            "RH                            12.625\n",
            "AH                          1.168406\n",
            "Datetime         2004-07-22 16:00:00\n",
            "DayOfWeek                   Thursday\n",
            "Name: 3214, dtype: object\n",
            "\n",
            "Lowest temperature for air quality:\n",
            "CO(GT)                           1.7\n",
            "PT08.S1(CO)                   -200.0\n",
            "NMHC(GT)                         222\n",
            "C6H6(GT)                      -200.0\n",
            "PT08.S2(NMHC)                 -200.0\n",
            "NOx(GT)                         99.0\n",
            "PT08.S3(NOx)                  -200.0\n",
            "NO2(GT)                         72.0\n",
            "PT08.S4(NO2)                  -200.0\n",
            "PT08.S5(O3)                   -200.0\n",
            "T                             -200.0\n",
            "RH                            -200.0\n",
            "AH                            -200.0\n",
            "Datetime         2004-04-01 14:00:00\n",
            "DayOfWeek                   Thursday\n",
            "Name: 524, dtype: object\n",
            "\n",
            "Classification Report:\n",
            "              precision    recall  f1-score   support\n",
            "\n",
            "           0       1.00      1.00      1.00      2700\n",
            "           1       1.00      1.00      1.00       108\n",
            "\n",
            "    accuracy                           1.00      2808\n",
            "   macro avg       1.00      1.00      1.00      2808\n",
            "weighted avg       1.00      1.00      1.00      2808\n",
            "\n",
            "\n",
            "Clustering Silhouette Score: 0.8239262945269908\n"
          ]
        }
      ]
    }
  ]
}